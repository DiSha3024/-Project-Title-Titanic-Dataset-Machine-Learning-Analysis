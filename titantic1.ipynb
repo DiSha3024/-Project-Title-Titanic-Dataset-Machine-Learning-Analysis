{
 "cells": [
  {
   "cell_type": "code",
   "execution_count": 6,
   "id": "f79e4481-f71d-43b3-838b-4b802b3c02c8",
   "metadata": {},
   "outputs": [
    {
     "name": "stdout",
     "output_type": "stream",
     "text": [
      "Requirement already satisfied: matplotlib in c:\\users\\deeksha\\appdata\\local\\programs\\python\\python312\\lib\\site-packages (3.8.2)\n",
      "Requirement already satisfied: contourpy>=1.0.1 in c:\\users\\deeksha\\appdata\\local\\programs\\python\\python312\\lib\\site-packages (from matplotlib) (1.2.0)\n",
      "Requirement already satisfied: cycler>=0.10 in c:\\users\\deeksha\\appdata\\local\\programs\\python\\python312\\lib\\site-packages (from matplotlib) (0.12.1)\n",
      "Requirement already satisfied: fonttools>=4.22.0 in c:\\users\\deeksha\\appdata\\local\\programs\\python\\python312\\lib\\site-packages (from matplotlib) (4.47.2)\n",
      "Requirement already satisfied: kiwisolver>=1.3.1 in c:\\users\\deeksha\\appdata\\local\\programs\\python\\python312\\lib\\site-packages (from matplotlib) (1.4.5)\n",
      "Requirement already satisfied: numpy<2,>=1.21 in c:\\users\\deeksha\\appdata\\local\\programs\\python\\python312\\lib\\site-packages (from matplotlib) (1.26.3)\n",
      "Requirement already satisfied: packaging>=20.0 in c:\\users\\deeksha\\appdata\\local\\programs\\python\\python312\\lib\\site-packages (from matplotlib) (23.2)\n",
      "Requirement already satisfied: pillow>=8 in c:\\users\\deeksha\\appdata\\local\\programs\\python\\python312\\lib\\site-packages (from matplotlib) (10.2.0)\n",
      "Requirement already satisfied: pyparsing>=2.3.1 in c:\\users\\deeksha\\appdata\\local\\programs\\python\\python312\\lib\\site-packages (from matplotlib) (3.1.1)\n",
      "Requirement already satisfied: python-dateutil>=2.7 in c:\\users\\deeksha\\appdata\\local\\programs\\python\\python312\\lib\\site-packages (from matplotlib) (2.8.2)\n",
      "Requirement already satisfied: six>=1.5 in c:\\users\\deeksha\\appdata\\local\\programs\\python\\python312\\lib\\site-packages (from python-dateutil>=2.7->matplotlib) (1.16.0)\n",
      "Note: you may need to restart the kernel to use updated packages.\n"
     ]
    }
   ],
   "source": [
    "pip install matplotlib"
   ]
  },
  {
   "cell_type": "code",
   "execution_count": 2,
   "id": "c4a177e5-af28-47d5-9d5d-f075d992f6dd",
   "metadata": {},
   "outputs": [
    {
     "name": "stdout",
     "output_type": "stream",
     "text": [
      "Collecting seaborn\n",
      "  Downloading seaborn-0.13.1-py3-none-any.whl.metadata (5.4 kB)\n",
      "Requirement already satisfied: numpy!=1.24.0,>=1.20 in c:\\users\\deeksha\\appdata\\local\\programs\\python\\python312\\lib\\site-packages (from seaborn) (1.26.3)\n",
      "Requirement already satisfied: pandas>=1.2 in c:\\users\\deeksha\\appdata\\local\\programs\\python\\python312\\lib\\site-packages (from seaborn) (2.1.4)\n",
      "Requirement already satisfied: matplotlib!=3.6.1,>=3.4 in c:\\users\\deeksha\\appdata\\local\\programs\\python\\python312\\lib\\site-packages (from seaborn) (3.8.2)\n",
      "Requirement already satisfied: contourpy>=1.0.1 in c:\\users\\deeksha\\appdata\\local\\programs\\python\\python312\\lib\\site-packages (from matplotlib!=3.6.1,>=3.4->seaborn) (1.2.0)\n",
      "Requirement already satisfied: cycler>=0.10 in c:\\users\\deeksha\\appdata\\local\\programs\\python\\python312\\lib\\site-packages (from matplotlib!=3.6.1,>=3.4->seaborn) (0.12.1)\n",
      "Requirement already satisfied: fonttools>=4.22.0 in c:\\users\\deeksha\\appdata\\local\\programs\\python\\python312\\lib\\site-packages (from matplotlib!=3.6.1,>=3.4->seaborn) (4.47.2)\n",
      "Requirement already satisfied: kiwisolver>=1.3.1 in c:\\users\\deeksha\\appdata\\local\\programs\\python\\python312\\lib\\site-packages (from matplotlib!=3.6.1,>=3.4->seaborn) (1.4.5)\n",
      "Requirement already satisfied: packaging>=20.0 in c:\\users\\deeksha\\appdata\\local\\programs\\python\\python312\\lib\\site-packages (from matplotlib!=3.6.1,>=3.4->seaborn) (23.2)\n",
      "Requirement already satisfied: pillow>=8 in c:\\users\\deeksha\\appdata\\local\\programs\\python\\python312\\lib\\site-packages (from matplotlib!=3.6.1,>=3.4->seaborn) (10.2.0)\n",
      "Requirement already satisfied: pyparsing>=2.3.1 in c:\\users\\deeksha\\appdata\\local\\programs\\python\\python312\\lib\\site-packages (from matplotlib!=3.6.1,>=3.4->seaborn) (3.1.1)\n",
      "Requirement already satisfied: python-dateutil>=2.7 in c:\\users\\deeksha\\appdata\\local\\programs\\python\\python312\\lib\\site-packages (from matplotlib!=3.6.1,>=3.4->seaborn) (2.8.2)\n",
      "Requirement already satisfied: pytz>=2020.1 in c:\\users\\deeksha\\appdata\\local\\programs\\python\\python312\\lib\\site-packages (from pandas>=1.2->seaborn) (2023.3.post1)\n",
      "Requirement already satisfied: tzdata>=2022.1 in c:\\users\\deeksha\\appdata\\local\\programs\\python\\python312\\lib\\site-packages (from pandas>=1.2->seaborn) (2023.4)\n",
      "Requirement already satisfied: six>=1.5 in c:\\users\\deeksha\\appdata\\local\\programs\\python\\python312\\lib\\site-packages (from python-dateutil>=2.7->matplotlib!=3.6.1,>=3.4->seaborn) (1.16.0)\n",
      "Downloading seaborn-0.13.1-py3-none-any.whl (294 kB)\n",
      "   ---------------------------------------- 0.0/294.8 kB ? eta -:--:--\n",
      "   ---------------------------------------- 0.0/294.8 kB ? eta -:--:--\n",
      "   - -------------------------------------- 10.2/294.8 kB ? eta -:--:--\n",
      "   ---------- ---------------------------- 81.9/294.8 kB 919.0 kB/s eta 0:00:01\n",
      "   ---------------------------------------- 294.8/294.8 kB 2.6 MB/s eta 0:00:00\n",
      "Installing collected packages: seaborn\n",
      "Successfully installed seaborn-0.13.1\n",
      "Note: you may need to restart the kernel to use updated packages.\n"
     ]
    }
   ],
   "source": [
    "pip install seaborn"
   ]
  },
  {
   "cell_type": "code",
   "execution_count": 2,
   "id": "470d6a63-b788-4cbb-877c-2b3b7a8daefc",
   "metadata": {},
   "outputs": [
    {
     "name": "stdout",
     "output_type": "stream",
     "text": [
      "Collecting scikit-learn\n",
      "  Downloading scikit_learn-1.3.2-cp312-cp312-win_amd64.whl.metadata (11 kB)\n",
      "Requirement already satisfied: numpy<2.0,>=1.17.3 in c:\\users\\deeksha\\appdata\\local\\programs\\python\\python312\\lib\\site-packages (from scikit-learn) (1.26.3)\n",
      "Collecting scipy>=1.5.0 (from scikit-learn)\n",
      "  Downloading scipy-1.11.4-cp312-cp312-win_amd64.whl.metadata (60 kB)\n",
      "     ---------------------------------------- 0.0/60.4 kB ? eta -:--:--\n",
      "     ------ --------------------------------- 10.2/60.4 kB ? eta -:--:--\n",
      "     -------------------------------------- 60.4/60.4 kB 809.0 kB/s eta 0:00:00\n",
      "Collecting joblib>=1.1.1 (from scikit-learn)\n",
      "  Downloading joblib-1.3.2-py3-none-any.whl.metadata (5.4 kB)\n",
      "Collecting threadpoolctl>=2.0.0 (from scikit-learn)\n",
      "  Downloading threadpoolctl-3.2.0-py3-none-any.whl.metadata (10.0 kB)\n",
      "Downloading scikit_learn-1.3.2-cp312-cp312-win_amd64.whl (9.1 MB)\n",
      "   ---------------------------------------- 0.0/9.1 MB ? eta -:--:--\n",
      "    --------------------------------------- 0.2/9.1 MB 6.3 MB/s eta 0:00:02\n",
      "   --- ------------------------------------ 0.7/9.1 MB 11.2 MB/s eta 0:00:01\n",
      "   --------- ------------------------------ 2.1/9.1 MB 18.9 MB/s eta 0:00:01\n",
      "   ----------- ---------------------------- 2.6/9.1 MB 20.4 MB/s eta 0:00:01\n",
      "   -------------- ------------------------- 3.2/9.1 MB 18.6 MB/s eta 0:00:01\n",
      "   --------------- ------------------------ 3.4/9.1 MB 14.7 MB/s eta 0:00:01\n",
      "   ----------------- ---------------------- 3.9/9.1 MB 13.8 MB/s eta 0:00:01\n",
      "   ------------------ --------------------- 4.2/9.1 MB 13.5 MB/s eta 0:00:01\n",
      "   ------------------- -------------------- 4.4/9.1 MB 12.2 MB/s eta 0:00:01\n",
      "   -------------------- ------------------- 4.8/9.1 MB 12.7 MB/s eta 0:00:01\n",
      "   --------------------- ------------------ 5.0/9.1 MB 11.4 MB/s eta 0:00:01\n",
      "   ---------------------- ----------------- 5.0/9.1 MB 10.7 MB/s eta 0:00:01\n",
      "   ------------------------ --------------- 5.7/9.1 MB 10.3 MB/s eta 0:00:01\n",
      "   ------------------------- -------------- 5.9/9.1 MB 10.5 MB/s eta 0:00:01\n",
      "   -------------------------- ------------- 6.1/9.1 MB 10.0 MB/s eta 0:00:01\n",
      "   ---------------------------- ----------- 6.5/9.1 MB 9.7 MB/s eta 0:00:01\n",
      "   ----------------------------- ---------- 6.8/9.1 MB 9.4 MB/s eta 0:00:01\n",
      "   ----------------------------- ---------- 6.8/9.1 MB 9.3 MB/s eta 0:00:01\n",
      "   ------------------------------- -------- 7.2/9.1 MB 9.0 MB/s eta 0:00:01\n",
      "   -------------------------------- ------- 7.4/9.1 MB 9.0 MB/s eta 0:00:01\n",
      "   --------------------------------- ------ 7.7/9.1 MB 8.8 MB/s eta 0:00:01\n",
      "   ----------------------------------- ---- 8.1/9.1 MB 8.6 MB/s eta 0:00:01\n",
      "   ------------------------------------ --- 8.4/9.1 MB 8.5 MB/s eta 0:00:01\n",
      "   -------------------------------------- - 8.7/9.1 MB 8.6 MB/s eta 0:00:01\n",
      "   -------------------------------------- - 8.9/9.1 MB 8.3 MB/s eta 0:00:01\n",
      "   ---------------------------------------  9.0/9.1 MB 8.2 MB/s eta 0:00:01\n",
      "   ---------------------------------------  9.1/9.1 MB 8.1 MB/s eta 0:00:01\n",
      "   ---------------------------------------- 9.1/9.1 MB 7.8 MB/s eta 0:00:00\n",
      "Downloading joblib-1.3.2-py3-none-any.whl (302 kB)\n",
      "   ---------------------------------------- 0.0/302.2 kB ? eta -:--:--\n",
      "   --------------------- ------------------ 163.8/302.2 kB 3.3 MB/s eta 0:00:01\n",
      "   --------------------------- ------------ 204.8/302.2 kB 3.1 MB/s eta 0:00:01\n",
      "   ---------------------------------------- 302.2/302.2 kB 2.3 MB/s eta 0:00:00\n",
      "Downloading scipy-1.11.4-cp312-cp312-win_amd64.whl (43.7 MB)\n",
      "   ---------------------------------------- 0.0/43.7 MB ? eta -:--:--\n",
      "   ---------------------------------------- 0.1/43.7 MB 3.3 MB/s eta 0:00:14\n",
      "   ---------------------------------------- 0.2/43.7 MB 2.8 MB/s eta 0:00:16\n",
      "   ---------------------------------------- 0.3/43.7 MB 2.5 MB/s eta 0:00:18\n",
      "   ---------------------------------------- 0.4/43.7 MB 2.8 MB/s eta 0:00:16\n",
      "    --------------------------------------- 0.6/43.7 MB 2.7 MB/s eta 0:00:17\n",
      "    --------------------------------------- 0.7/43.7 MB 2.6 MB/s eta 0:00:17\n",
      "    --------------------------------------- 0.8/43.7 MB 2.7 MB/s eta 0:00:16\n",
      "    --------------------------------------- 0.9/43.7 MB 2.7 MB/s eta 0:00:16\n",
      "    --------------------------------------- 1.0/43.7 MB 2.8 MB/s eta 0:00:16\n",
      "   - -------------------------------------- 1.2/43.7 MB 2.7 MB/s eta 0:00:16\n",
      "   - -------------------------------------- 1.3/43.7 MB 2.8 MB/s eta 0:00:16\n",
      "   - -------------------------------------- 1.4/43.7 MB 2.8 MB/s eta 0:00:16\n",
      "   - -------------------------------------- 1.5/43.7 MB 2.8 MB/s eta 0:00:16\n",
      "   - -------------------------------------- 1.7/43.7 MB 2.8 MB/s eta 0:00:15\n",
      "   - -------------------------------------- 1.8/43.7 MB 2.9 MB/s eta 0:00:15\n",
      "   - -------------------------------------- 2.0/43.7 MB 3.0 MB/s eta 0:00:15\n",
      "   - -------------------------------------- 2.1/43.7 MB 3.0 MB/s eta 0:00:14\n",
      "   -- ------------------------------------- 2.3/43.7 MB 3.1 MB/s eta 0:00:14\n",
      "   -- ------------------------------------- 2.4/43.7 MB 3.1 MB/s eta 0:00:14\n",
      "   -- ------------------------------------- 2.6/43.7 MB 3.1 MB/s eta 0:00:14\n",
      "   -- ------------------------------------- 2.7/43.7 MB 3.2 MB/s eta 0:00:13\n",
      "   -- ------------------------------------- 2.9/43.7 MB 3.2 MB/s eta 0:00:13\n",
      "   -- ------------------------------------- 3.1/43.7 MB 3.2 MB/s eta 0:00:13\n",
      "   -- ------------------------------------- 3.3/43.7 MB 3.3 MB/s eta 0:00:13\n",
      "   --- ------------------------------------ 3.4/43.7 MB 3.3 MB/s eta 0:00:13\n",
      "   --- ------------------------------------ 3.6/43.7 MB 3.4 MB/s eta 0:00:12\n",
      "   --- ------------------------------------ 3.8/43.7 MB 3.4 MB/s eta 0:00:12\n",
      "   --- ------------------------------------ 4.0/43.7 MB 3.5 MB/s eta 0:00:12\n",
      "   --- ------------------------------------ 4.2/43.7 MB 3.5 MB/s eta 0:00:12\n",
      "   --- ------------------------------------ 4.4/43.7 MB 3.5 MB/s eta 0:00:12\n",
      "   ---- ----------------------------------- 4.6/43.7 MB 3.6 MB/s eta 0:00:11\n",
      "   ---- ----------------------------------- 4.8/43.7 MB 3.7 MB/s eta 0:00:11\n",
      "   ---- ----------------------------------- 5.1/43.7 MB 3.7 MB/s eta 0:00:11\n",
      "   ---- ----------------------------------- 5.3/43.7 MB 3.8 MB/s eta 0:00:11\n",
      "   ----- ---------------------------------- 5.5/43.7 MB 3.8 MB/s eta 0:00:10\n",
      "   ----- ---------------------------------- 5.8/43.7 MB 3.9 MB/s eta 0:00:10\n",
      "   ----- ---------------------------------- 6.0/43.7 MB 4.0 MB/s eta 0:00:10\n",
      "   ----- ---------------------------------- 6.3/43.7 MB 4.0 MB/s eta 0:00:10\n",
      "   ------ --------------------------------- 6.6/43.7 MB 4.1 MB/s eta 0:00:10\n",
      "   ------ --------------------------------- 6.9/43.7 MB 4.1 MB/s eta 0:00:09\n",
      "   ------ --------------------------------- 7.1/43.7 MB 4.2 MB/s eta 0:00:09\n",
      "   ------ --------------------------------- 7.5/43.7 MB 4.3 MB/s eta 0:00:09\n",
      "   ------- -------------------------------- 7.7/43.7 MB 4.3 MB/s eta 0:00:09\n",
      "   ------- -------------------------------- 8.0/43.7 MB 4.4 MB/s eta 0:00:09\n",
      "   ------- -------------------------------- 8.3/43.7 MB 4.4 MB/s eta 0:00:09\n",
      "   ------- -------------------------------- 8.6/43.7 MB 4.5 MB/s eta 0:00:08\n",
      "   -------- ------------------------------- 8.9/43.7 MB 4.5 MB/s eta 0:00:08\n",
      "   -------- ------------------------------- 9.1/43.7 MB 4.6 MB/s eta 0:00:08\n",
      "   -------- ------------------------------- 9.5/43.7 MB 4.6 MB/s eta 0:00:08\n",
      "   -------- ------------------------------- 9.8/43.7 MB 4.6 MB/s eta 0:00:08\n",
      "   --------- ------------------------------ 10.1/43.7 MB 4.7 MB/s eta 0:00:08\n",
      "   --------- ------------------------------ 10.4/43.7 MB 4.8 MB/s eta 0:00:07\n",
      "   --------- ------------------------------ 10.8/43.7 MB 5.0 MB/s eta 0:00:07\n",
      "   ---------- ----------------------------- 11.1/43.7 MB 5.2 MB/s eta 0:00:07\n",
      "   ---------- ----------------------------- 11.4/43.7 MB 5.4 MB/s eta 0:00:07\n",
      "   ---------- ----------------------------- 11.8/43.7 MB 5.6 MB/s eta 0:00:06\n",
      "   ----------- ---------------------------- 12.1/43.7 MB 5.8 MB/s eta 0:00:06\n",
      "   ----------- ---------------------------- 12.4/43.7 MB 6.0 MB/s eta 0:00:06\n",
      "   ----------- ---------------------------- 12.7/43.7 MB 6.1 MB/s eta 0:00:06\n",
      "   ----------- ---------------------------- 13.1/43.7 MB 6.3 MB/s eta 0:00:05\n",
      "   ------------ --------------------------- 13.4/43.7 MB 6.4 MB/s eta 0:00:05\n",
      "   ------------ --------------------------- 13.7/43.7 MB 6.6 MB/s eta 0:00:05\n",
      "   ------------ --------------------------- 14.1/43.7 MB 6.7 MB/s eta 0:00:05\n",
      "   ------------- -------------------------- 14.4/43.7 MB 6.8 MB/s eta 0:00:05\n",
      "   ------------- -------------------------- 14.9/43.7 MB 7.0 MB/s eta 0:00:05\n",
      "   ------------- -------------------------- 15.0/43.7 MB 7.0 MB/s eta 0:00:05\n",
      "   -------------- ------------------------- 15.5/43.7 MB 7.2 MB/s eta 0:00:04\n",
      "   -------------- ------------------------- 15.7/43.7 MB 7.2 MB/s eta 0:00:04\n",
      "   -------------- ------------------------- 16.0/43.7 MB 7.2 MB/s eta 0:00:04\n",
      "   -------------- ------------------------- 16.3/43.7 MB 7.3 MB/s eta 0:00:04\n",
      "   --------------- ------------------------ 16.5/43.7 MB 7.3 MB/s eta 0:00:04\n",
      "   --------------- ------------------------ 16.8/43.7 MB 7.4 MB/s eta 0:00:04\n",
      "   --------------- ------------------------ 17.1/43.7 MB 7.3 MB/s eta 0:00:04\n",
      "   --------------- ------------------------ 17.4/43.7 MB 7.3 MB/s eta 0:00:04\n",
      "   ---------------- ----------------------- 17.6/43.7 MB 7.4 MB/s eta 0:00:04\n",
      "   ---------------- ----------------------- 17.8/43.7 MB 7.3 MB/s eta 0:00:04\n",
      "   ---------------- ----------------------- 18.0/43.7 MB 7.2 MB/s eta 0:00:04\n",
      "   ---------------- ----------------------- 18.2/43.7 MB 7.0 MB/s eta 0:00:04\n",
      "   ---------------- ----------------------- 18.3/43.7 MB 7.0 MB/s eta 0:00:04\n",
      "   ---------------- ----------------------- 18.5/43.7 MB 6.9 MB/s eta 0:00:04\n",
      "   ----------------- ---------------------- 18.7/43.7 MB 6.8 MB/s eta 0:00:04\n",
      "   ----------------- ---------------------- 18.9/43.7 MB 6.7 MB/s eta 0:00:04\n",
      "   ----------------- ---------------------- 19.0/43.7 MB 6.6 MB/s eta 0:00:04\n",
      "   ----------------- ---------------------- 19.2/43.7 MB 6.5 MB/s eta 0:00:04\n",
      "   ----------------- ---------------------- 19.4/43.7 MB 6.4 MB/s eta 0:00:04\n",
      "   ----------------- ---------------------- 19.7/43.7 MB 6.4 MB/s eta 0:00:04\n",
      "   ------------------ --------------------- 19.8/43.7 MB 6.2 MB/s eta 0:00:04\n",
      "   ------------------ --------------------- 20.0/43.7 MB 6.2 MB/s eta 0:00:04\n",
      "   ------------------ --------------------- 20.2/43.7 MB 6.2 MB/s eta 0:00:04\n",
      "   ------------------ --------------------- 20.4/43.7 MB 6.1 MB/s eta 0:00:04\n",
      "   ------------------ --------------------- 20.7/43.7 MB 6.0 MB/s eta 0:00:04\n",
      "   ------------------- -------------------- 21.0/43.7 MB 6.0 MB/s eta 0:00:04\n",
      "   ------------------- -------------------- 21.2/43.7 MB 6.0 MB/s eta 0:00:04\n",
      "   ------------------- -------------------- 21.4/43.7 MB 5.8 MB/s eta 0:00:04\n",
      "   ------------------- -------------------- 21.6/43.7 MB 5.8 MB/s eta 0:00:04\n",
      "   -------------------- ------------------- 21.9/43.7 MB 5.7 MB/s eta 0:00:04\n",
      "   -------------------- ------------------- 22.1/43.7 MB 5.7 MB/s eta 0:00:04\n",
      "   -------------------- ------------------- 22.3/43.7 MB 5.7 MB/s eta 0:00:04\n",
      "   -------------------- ------------------- 22.6/43.7 MB 5.7 MB/s eta 0:00:04\n",
      "   -------------------- ------------------- 22.9/43.7 MB 5.6 MB/s eta 0:00:04\n",
      "   --------------------- ------------------ 23.2/43.7 MB 5.6 MB/s eta 0:00:04\n",
      "   --------------------- ------------------ 23.4/43.7 MB 5.6 MB/s eta 0:00:04\n",
      "   --------------------- ------------------ 23.8/43.7 MB 5.5 MB/s eta 0:00:04\n",
      "   ---------------------- ----------------- 24.1/43.7 MB 5.5 MB/s eta 0:00:04\n",
      "   ---------------------- ----------------- 24.3/43.7 MB 5.5 MB/s eta 0:00:04\n",
      "   ---------------------- ----------------- 24.6/43.7 MB 5.4 MB/s eta 0:00:04\n",
      "   ---------------------- ----------------- 25.0/43.7 MB 5.4 MB/s eta 0:00:04\n",
      "   ----------------------- ---------------- 25.2/43.7 MB 5.4 MB/s eta 0:00:04\n",
      "   ----------------------- ---------------- 25.5/43.7 MB 5.3 MB/s eta 0:00:04\n",
      "   ----------------------- ---------------- 25.9/43.7 MB 5.4 MB/s eta 0:00:04\n",
      "   ----------------------- ---------------- 26.1/43.7 MB 5.4 MB/s eta 0:00:04\n",
      "   ------------------------ --------------- 26.4/43.7 MB 5.4 MB/s eta 0:00:04\n",
      "   ------------------------ --------------- 26.8/43.7 MB 5.4 MB/s eta 0:00:04\n",
      "   ------------------------ --------------- 27.2/43.7 MB 5.4 MB/s eta 0:00:04\n",
      "   ------------------------- -------------- 27.4/43.7 MB 5.4 MB/s eta 0:00:04\n",
      "   ------------------------- -------------- 27.8/43.7 MB 5.5 MB/s eta 0:00:03\n",
      "   ------------------------- -------------- 28.1/43.7 MB 5.5 MB/s eta 0:00:03\n",
      "   -------------------------- ------------- 28.5/43.7 MB 5.6 MB/s eta 0:00:03\n",
      "   -------------------------- ------------- 28.8/43.7 MB 5.8 MB/s eta 0:00:03\n",
      "   -------------------------- ------------- 29.2/43.7 MB 6.0 MB/s eta 0:00:03\n",
      "   --------------------------- ------------ 29.6/43.7 MB 6.2 MB/s eta 0:00:03\n",
      "   --------------------------- ------------ 30.0/43.7 MB 6.4 MB/s eta 0:00:03\n",
      "   --------------------------- ------------ 30.3/43.7 MB 6.5 MB/s eta 0:00:03\n",
      "   ---------------------------- ----------- 30.7/43.7 MB 6.7 MB/s eta 0:00:02\n",
      "   ---------------------------- ----------- 31.0/43.7 MB 6.7 MB/s eta 0:00:02\n",
      "   ---------------------------- ----------- 31.5/43.7 MB 7.0 MB/s eta 0:00:02\n",
      "   ----------------------------- ---------- 31.9/43.7 MB 7.0 MB/s eta 0:00:02\n",
      "   ----------------------------- ---------- 32.3/43.7 MB 7.2 MB/s eta 0:00:02\n",
      "   ----------------------------- ---------- 32.6/43.7 MB 7.4 MB/s eta 0:00:02\n",
      "   ------------------------------ --------- 32.9/43.7 MB 7.4 MB/s eta 0:00:02\n",
      "   ------------------------------ --------- 33.3/43.7 MB 7.4 MB/s eta 0:00:02\n",
      "   ------------------------------ --------- 33.5/43.7 MB 7.4 MB/s eta 0:00:02\n",
      "   ------------------------------ --------- 33.9/43.7 MB 7.4 MB/s eta 0:00:02\n",
      "   ------------------------------- -------- 34.0/43.7 MB 7.3 MB/s eta 0:00:02\n",
      "   ------------------------------- -------- 34.3/43.7 MB 7.3 MB/s eta 0:00:02\n",
      "   ------------------------------- -------- 34.4/43.7 MB 7.3 MB/s eta 0:00:02\n",
      "   ------------------------------- -------- 34.5/43.7 MB 7.1 MB/s eta 0:00:02\n",
      "   ------------------------------- -------- 34.7/43.7 MB 7.0 MB/s eta 0:00:02\n",
      "   ------------------------------- -------- 35.0/43.7 MB 6.9 MB/s eta 0:00:02\n",
      "   -------------------------------- ------- 35.1/43.7 MB 6.8 MB/s eta 0:00:02\n",
      "   -------------------------------- ------- 35.3/43.7 MB 6.7 MB/s eta 0:00:02\n",
      "   -------------------------------- ------- 35.5/43.7 MB 6.6 MB/s eta 0:00:02\n",
      "   -------------------------------- ------- 35.7/43.7 MB 6.5 MB/s eta 0:00:02\n",
      "   -------------------------------- ------- 35.9/43.7 MB 6.4 MB/s eta 0:00:02\n",
      "   --------------------------------- ------ 36.1/43.7 MB 6.3 MB/s eta 0:00:02\n",
      "   --------------------------------- ------ 36.3/43.7 MB 6.2 MB/s eta 0:00:02\n",
      "   --------------------------------- ------ 36.5/43.7 MB 6.2 MB/s eta 0:00:02\n",
      "   --------------------------------- ------ 36.7/43.7 MB 6.1 MB/s eta 0:00:02\n",
      "   --------------------------------- ------ 36.9/43.7 MB 6.1 MB/s eta 0:00:02\n",
      "   --------------------------------- ------ 37.1/43.7 MB 6.0 MB/s eta 0:00:02\n",
      "   ---------------------------------- ----- 37.3/43.7 MB 6.0 MB/s eta 0:00:02\n",
      "   ---------------------------------- ----- 37.5/43.7 MB 5.9 MB/s eta 0:00:02\n",
      "   ---------------------------------- ----- 37.7/43.7 MB 5.8 MB/s eta 0:00:02\n",
      "   ---------------------------------- ----- 37.9/43.7 MB 5.8 MB/s eta 0:00:01\n",
      "   ---------------------------------- ----- 38.2/43.7 MB 5.7 MB/s eta 0:00:01\n",
      "   ----------------------------------- ---- 38.4/43.7 MB 5.7 MB/s eta 0:00:01\n",
      "   ----------------------------------- ---- 38.6/43.7 MB 5.6 MB/s eta 0:00:01\n",
      "   ----------------------------------- ---- 38.8/43.7 MB 5.6 MB/s eta 0:00:01\n",
      "   ----------------------------------- ---- 39.1/43.7 MB 5.6 MB/s eta 0:00:01\n",
      "   ----------------------------------- ---- 39.3/43.7 MB 5.6 MB/s eta 0:00:01\n",
      "   ------------------------------------ --- 39.6/43.7 MB 5.5 MB/s eta 0:00:01\n",
      "   ------------------------------------ --- 39.8/43.7 MB 5.5 MB/s eta 0:00:01\n",
      "   ------------------------------------ --- 40.1/43.7 MB 5.4 MB/s eta 0:00:01\n",
      "   ------------------------------------ --- 40.4/43.7 MB 5.4 MB/s eta 0:00:01\n",
      "   ------------------------------------- -- 40.6/43.7 MB 5.4 MB/s eta 0:00:01\n",
      "   ------------------------------------- -- 40.9/43.7 MB 5.3 MB/s eta 0:00:01\n",
      "   ------------------------------------- -- 41.1/43.7 MB 5.3 MB/s eta 0:00:01\n",
      "   ------------------------------------- -- 41.5/43.7 MB 5.2 MB/s eta 0:00:01\n",
      "   -------------------------------------- - 41.8/43.7 MB 5.2 MB/s eta 0:00:01\n",
      "   -------------------------------------- - 42.1/43.7 MB 5.2 MB/s eta 0:00:01\n",
      "   -------------------------------------- - 42.5/43.7 MB 5.2 MB/s eta 0:00:01\n",
      "   ---------------------------------------  42.8/43.7 MB 5.1 MB/s eta 0:00:01\n",
      "   ---------------------------------------  43.2/43.7 MB 5.2 MB/s eta 0:00:01\n",
      "   ---------------------------------------  43.5/43.7 MB 5.2 MB/s eta 0:00:01\n",
      "   ---------------------------------------  43.7/43.7 MB 5.2 MB/s eta 0:00:01\n",
      "   ---------------------------------------  43.7/43.7 MB 5.2 MB/s eta 0:00:01\n",
      "   ---------------------------------------  43.7/43.7 MB 5.2 MB/s eta 0:00:01\n",
      "   ---------------------------------------- 43.7/43.7 MB 4.9 MB/s eta 0:00:00\n",
      "Downloading threadpoolctl-3.2.0-py3-none-any.whl (15 kB)\n",
      "Installing collected packages: threadpoolctl, scipy, joblib, scikit-learn\n",
      "Successfully installed joblib-1.3.2 scikit-learn-1.3.2 scipy-1.11.4 threadpoolctl-3.2.0\n",
      "Note: you may need to restart the kernel to use updated packages.\n"
     ]
    }
   ],
   "source": [
    "pip install scikit-learn"
   ]
  },
  {
   "cell_type": "code",
   "execution_count": 3,
   "id": "9c7a7d0f-424b-4b56-8585-5bcf31ecfee1",
   "metadata": {},
   "outputs": [],
   "source": [
    "import pandas as pd\n",
    "import numpy as np\n",
    "import matplotlib.pyplot as plt\n",
    "import seaborn as sns\n",
    "%matplotlib inline\n",
    "\n",
    "from sklearn.ensemble import RandomForestClassifier\n",
    "from sklearn.linear_model import LogisticRegression\n",
    "from sklearn.neighbors import KNeighborsClassifier\n",
    "from sklearn.tree import DecisionTreeClassifier\n",
    "from sklearn.svm import SVC\n",
    "\n",
    "sns.set(rc={'figure.figsize': (12, 10)})"
   ]
  },
  {
   "cell_type": "code",
   "execution_count": 4,
   "id": "2297fd94-30f8-4dab-a176-c5a984330bdd",
   "metadata": {},
   "outputs": [],
   "source": [
    "data=pd.read_csv('titanic_data.csv')"
   ]
  },
  {
   "cell_type": "code",
   "execution_count": 5,
   "id": "2e27e111-884d-459f-a473-a3f260bcc600",
   "metadata": {},
   "outputs": [
    {
     "data": {
      "text/html": [
       "<div>\n",
       "<style scoped>\n",
       "    .dataframe tbody tr th:only-of-type {\n",
       "        vertical-align: middle;\n",
       "    }\n",
       "\n",
       "    .dataframe tbody tr th {\n",
       "        vertical-align: top;\n",
       "    }\n",
       "\n",
       "    .dataframe thead th {\n",
       "        text-align: right;\n",
       "    }\n",
       "</style>\n",
       "<table border=\"1\" class=\"dataframe\">\n",
       "  <thead>\n",
       "    <tr style=\"text-align: right;\">\n",
       "      <th></th>\n",
       "      <th>PassengerId</th>\n",
       "      <th>Survived</th>\n",
       "      <th>Pclass</th>\n",
       "      <th>Name</th>\n",
       "      <th>Sex</th>\n",
       "      <th>Age</th>\n",
       "      <th>SibSp</th>\n",
       "      <th>Parch</th>\n",
       "      <th>Ticket</th>\n",
       "      <th>Fare</th>\n",
       "      <th>Cabin</th>\n",
       "      <th>Embarked</th>\n",
       "    </tr>\n",
       "  </thead>\n",
       "  <tbody>\n",
       "    <tr>\n",
       "      <th>0</th>\n",
       "      <td>1</td>\n",
       "      <td>0</td>\n",
       "      <td>3</td>\n",
       "      <td>Braund, Mr. Owen Harris</td>\n",
       "      <td>male</td>\n",
       "      <td>22.0</td>\n",
       "      <td>1</td>\n",
       "      <td>0</td>\n",
       "      <td>A/5 21171</td>\n",
       "      <td>7.2500</td>\n",
       "      <td>NaN</td>\n",
       "      <td>S</td>\n",
       "    </tr>\n",
       "    <tr>\n",
       "      <th>1</th>\n",
       "      <td>2</td>\n",
       "      <td>1</td>\n",
       "      <td>1</td>\n",
       "      <td>Cumings, Mrs. John Bradley (Florence Briggs Th...</td>\n",
       "      <td>female</td>\n",
       "      <td>38.0</td>\n",
       "      <td>1</td>\n",
       "      <td>0</td>\n",
       "      <td>PC 17599</td>\n",
       "      <td>71.2833</td>\n",
       "      <td>C85</td>\n",
       "      <td>C</td>\n",
       "    </tr>\n",
       "    <tr>\n",
       "      <th>2</th>\n",
       "      <td>3</td>\n",
       "      <td>1</td>\n",
       "      <td>3</td>\n",
       "      <td>Heikkinen, Miss. Laina</td>\n",
       "      <td>female</td>\n",
       "      <td>26.0</td>\n",
       "      <td>0</td>\n",
       "      <td>0</td>\n",
       "      <td>STON/O2. 3101282</td>\n",
       "      <td>7.9250</td>\n",
       "      <td>NaN</td>\n",
       "      <td>S</td>\n",
       "    </tr>\n",
       "    <tr>\n",
       "      <th>3</th>\n",
       "      <td>4</td>\n",
       "      <td>1</td>\n",
       "      <td>1</td>\n",
       "      <td>Futrelle, Mrs. Jacques Heath (Lily May Peel)</td>\n",
       "      <td>female</td>\n",
       "      <td>35.0</td>\n",
       "      <td>1</td>\n",
       "      <td>0</td>\n",
       "      <td>113803</td>\n",
       "      <td>53.1000</td>\n",
       "      <td>C123</td>\n",
       "      <td>S</td>\n",
       "    </tr>\n",
       "    <tr>\n",
       "      <th>4</th>\n",
       "      <td>5</td>\n",
       "      <td>0</td>\n",
       "      <td>3</td>\n",
       "      <td>Allen, Mr. William Henry</td>\n",
       "      <td>male</td>\n",
       "      <td>35.0</td>\n",
       "      <td>0</td>\n",
       "      <td>0</td>\n",
       "      <td>373450</td>\n",
       "      <td>8.0500</td>\n",
       "      <td>NaN</td>\n",
       "      <td>S</td>\n",
       "    </tr>\n",
       "    <tr>\n",
       "      <th>5</th>\n",
       "      <td>6</td>\n",
       "      <td>0</td>\n",
       "      <td>3</td>\n",
       "      <td>Moran, Mr. James</td>\n",
       "      <td>male</td>\n",
       "      <td>NaN</td>\n",
       "      <td>0</td>\n",
       "      <td>0</td>\n",
       "      <td>330877</td>\n",
       "      <td>8.4583</td>\n",
       "      <td>NaN</td>\n",
       "      <td>Q</td>\n",
       "    </tr>\n",
       "    <tr>\n",
       "      <th>6</th>\n",
       "      <td>7</td>\n",
       "      <td>0</td>\n",
       "      <td>1</td>\n",
       "      <td>McCarthy, Mr. Timothy J</td>\n",
       "      <td>male</td>\n",
       "      <td>54.0</td>\n",
       "      <td>0</td>\n",
       "      <td>0</td>\n",
       "      <td>17463</td>\n",
       "      <td>51.8625</td>\n",
       "      <td>E46</td>\n",
       "      <td>S</td>\n",
       "    </tr>\n",
       "    <tr>\n",
       "      <th>7</th>\n",
       "      <td>8</td>\n",
       "      <td>0</td>\n",
       "      <td>3</td>\n",
       "      <td>Palsson, Master. Gosta Leonard</td>\n",
       "      <td>male</td>\n",
       "      <td>2.0</td>\n",
       "      <td>3</td>\n",
       "      <td>1</td>\n",
       "      <td>349909</td>\n",
       "      <td>21.0750</td>\n",
       "      <td>NaN</td>\n",
       "      <td>S</td>\n",
       "    </tr>\n",
       "    <tr>\n",
       "      <th>8</th>\n",
       "      <td>9</td>\n",
       "      <td>1</td>\n",
       "      <td>3</td>\n",
       "      <td>Johnson, Mrs. Oscar W (Elisabeth Vilhelmina Berg)</td>\n",
       "      <td>female</td>\n",
       "      <td>27.0</td>\n",
       "      <td>0</td>\n",
       "      <td>2</td>\n",
       "      <td>347742</td>\n",
       "      <td>11.1333</td>\n",
       "      <td>NaN</td>\n",
       "      <td>S</td>\n",
       "    </tr>\n",
       "    <tr>\n",
       "      <th>9</th>\n",
       "      <td>10</td>\n",
       "      <td>1</td>\n",
       "      <td>2</td>\n",
       "      <td>Nasser, Mrs. Nicholas (Adele Achem)</td>\n",
       "      <td>female</td>\n",
       "      <td>14.0</td>\n",
       "      <td>1</td>\n",
       "      <td>0</td>\n",
       "      <td>237736</td>\n",
       "      <td>30.0708</td>\n",
       "      <td>NaN</td>\n",
       "      <td>C</td>\n",
       "    </tr>\n",
       "  </tbody>\n",
       "</table>\n",
       "</div>"
      ],
      "text/plain": [
       "   PassengerId  Survived  Pclass  \\\n",
       "0            1         0       3   \n",
       "1            2         1       1   \n",
       "2            3         1       3   \n",
       "3            4         1       1   \n",
       "4            5         0       3   \n",
       "5            6         0       3   \n",
       "6            7         0       1   \n",
       "7            8         0       3   \n",
       "8            9         1       3   \n",
       "9           10         1       2   \n",
       "\n",
       "                                                Name     Sex   Age  SibSp  \\\n",
       "0                            Braund, Mr. Owen Harris    male  22.0      1   \n",
       "1  Cumings, Mrs. John Bradley (Florence Briggs Th...  female  38.0      1   \n",
       "2                             Heikkinen, Miss. Laina  female  26.0      0   \n",
       "3       Futrelle, Mrs. Jacques Heath (Lily May Peel)  female  35.0      1   \n",
       "4                           Allen, Mr. William Henry    male  35.0      0   \n",
       "5                                   Moran, Mr. James    male   NaN      0   \n",
       "6                            McCarthy, Mr. Timothy J    male  54.0      0   \n",
       "7                     Palsson, Master. Gosta Leonard    male   2.0      3   \n",
       "8  Johnson, Mrs. Oscar W (Elisabeth Vilhelmina Berg)  female  27.0      0   \n",
       "9                Nasser, Mrs. Nicholas (Adele Achem)  female  14.0      1   \n",
       "\n",
       "   Parch            Ticket     Fare Cabin Embarked  \n",
       "0      0         A/5 21171   7.2500   NaN        S  \n",
       "1      0          PC 17599  71.2833   C85        C  \n",
       "2      0  STON/O2. 3101282   7.9250   NaN        S  \n",
       "3      0            113803  53.1000  C123        S  \n",
       "4      0            373450   8.0500   NaN        S  \n",
       "5      0            330877   8.4583   NaN        Q  \n",
       "6      0             17463  51.8625   E46        S  \n",
       "7      1            349909  21.0750   NaN        S  \n",
       "8      2            347742  11.1333   NaN        S  \n",
       "9      0            237736  30.0708   NaN        C  "
      ]
     },
     "execution_count": 5,
     "metadata": {},
     "output_type": "execute_result"
    }
   ],
   "source": [
    "data.head(10)"
   ]
  },
  {
   "cell_type": "markdown",
   "id": "2e3e2a7f-0a67-4b0f-8e83-40ff4250c7f4",
   "metadata": {},
   "source": [
    "## Types of features:\n",
    "\n",
    "- **Categorical:** Sex, Embarked\n",
    "- **Continuous:** Age, Fare\n",
    "- **Discrete:** SibSp, Parch\n",
    "- **Alphanumeric:** Cabin\n"
   ]
  },
  {
   "cell_type": "code",
   "execution_count": 7,
   "id": "edb50bbf-2904-4ccc-ae0e-9f89d95fc6fc",
   "metadata": {},
   "outputs": [
    {
     "name": "stdout",
     "output_type": "stream",
     "text": [
      "<class 'pandas.core.frame.DataFrame'>\n",
      "RangeIndex: 891 entries, 0 to 890\n",
      "Data columns (total 12 columns):\n",
      " #   Column       Non-Null Count  Dtype  \n",
      "---  ------       --------------  -----  \n",
      " 0   PassengerId  891 non-null    int64  \n",
      " 1   Survived     891 non-null    int64  \n",
      " 2   Pclass       891 non-null    int64  \n",
      " 3   Name         891 non-null    object \n",
      " 4   Sex          891 non-null    object \n",
      " 5   Age          714 non-null    float64\n",
      " 6   SibSp        891 non-null    int64  \n",
      " 7   Parch        891 non-null    int64  \n",
      " 8   Ticket       891 non-null    object \n",
      " 9   Fare         891 non-null    float64\n",
      " 10  Cabin        204 non-null    object \n",
      " 11  Embarked     889 non-null    object \n",
      "dtypes: float64(2), int64(5), object(5)\n",
      "memory usage: 83.7+ KB\n"
     ]
    }
   ],
   "source": [
    "data.info()"
   ]
  },
  {
   "cell_type": "code",
   "execution_count": 7,
   "id": "0fd88298-693d-4ff0-b57a-892c5ad3329b",
   "metadata": {},
   "outputs": [
    {
     "data": {
      "text/plain": [
       "PassengerId      0\n",
       "Survived         0\n",
       "Pclass           0\n",
       "Name             0\n",
       "Sex              0\n",
       "Age            177\n",
       "SibSp            0\n",
       "Parch            0\n",
       "Ticket           0\n",
       "Fare             0\n",
       "Cabin          687\n",
       "Embarked         2\n",
       "dtype: int64"
      ]
     },
     "execution_count": 7,
     "metadata": {},
     "output_type": "execute_result"
    }
   ],
   "source": [
    "data.isnull().sum()"
   ]
  },
  {
   "cell_type": "code",
   "execution_count": 8,
   "id": "2d7cc190-550c-42d0-908a-ccc41d2989e1",
   "metadata": {},
   "outputs": [
    {
     "data": {
      "text/html": [
       "<div>\n",
       "<style scoped>\n",
       "    .dataframe tbody tr th:only-of-type {\n",
       "        vertical-align: middle;\n",
       "    }\n",
       "\n",
       "    .dataframe tbody tr th {\n",
       "        vertical-align: top;\n",
       "    }\n",
       "\n",
       "    .dataframe thead th {\n",
       "        text-align: right;\n",
       "    }\n",
       "</style>\n",
       "<table border=\"1\" class=\"dataframe\">\n",
       "  <thead>\n",
       "    <tr style=\"text-align: right;\">\n",
       "      <th></th>\n",
       "      <th>PassengerId</th>\n",
       "      <th>Survived</th>\n",
       "      <th>Pclass</th>\n",
       "      <th>Age</th>\n",
       "      <th>SibSp</th>\n",
       "      <th>Parch</th>\n",
       "      <th>Fare</th>\n",
       "    </tr>\n",
       "  </thead>\n",
       "  <tbody>\n",
       "    <tr>\n",
       "      <th>count</th>\n",
       "      <td>891.000000</td>\n",
       "      <td>891.000000</td>\n",
       "      <td>891.000000</td>\n",
       "      <td>714.000000</td>\n",
       "      <td>891.000000</td>\n",
       "      <td>891.000000</td>\n",
       "      <td>891.000000</td>\n",
       "    </tr>\n",
       "    <tr>\n",
       "      <th>mean</th>\n",
       "      <td>446.000000</td>\n",
       "      <td>0.383838</td>\n",
       "      <td>2.308642</td>\n",
       "      <td>29.699118</td>\n",
       "      <td>0.523008</td>\n",
       "      <td>0.381594</td>\n",
       "      <td>32.204208</td>\n",
       "    </tr>\n",
       "    <tr>\n",
       "      <th>std</th>\n",
       "      <td>257.353842</td>\n",
       "      <td>0.486592</td>\n",
       "      <td>0.836071</td>\n",
       "      <td>14.526497</td>\n",
       "      <td>1.102743</td>\n",
       "      <td>0.806057</td>\n",
       "      <td>49.693429</td>\n",
       "    </tr>\n",
       "    <tr>\n",
       "      <th>min</th>\n",
       "      <td>1.000000</td>\n",
       "      <td>0.000000</td>\n",
       "      <td>1.000000</td>\n",
       "      <td>0.420000</td>\n",
       "      <td>0.000000</td>\n",
       "      <td>0.000000</td>\n",
       "      <td>0.000000</td>\n",
       "    </tr>\n",
       "    <tr>\n",
       "      <th>25%</th>\n",
       "      <td>223.500000</td>\n",
       "      <td>0.000000</td>\n",
       "      <td>2.000000</td>\n",
       "      <td>20.125000</td>\n",
       "      <td>0.000000</td>\n",
       "      <td>0.000000</td>\n",
       "      <td>7.910400</td>\n",
       "    </tr>\n",
       "    <tr>\n",
       "      <th>50%</th>\n",
       "      <td>446.000000</td>\n",
       "      <td>0.000000</td>\n",
       "      <td>3.000000</td>\n",
       "      <td>28.000000</td>\n",
       "      <td>0.000000</td>\n",
       "      <td>0.000000</td>\n",
       "      <td>14.454200</td>\n",
       "    </tr>\n",
       "    <tr>\n",
       "      <th>75%</th>\n",
       "      <td>668.500000</td>\n",
       "      <td>1.000000</td>\n",
       "      <td>3.000000</td>\n",
       "      <td>38.000000</td>\n",
       "      <td>1.000000</td>\n",
       "      <td>0.000000</td>\n",
       "      <td>31.000000</td>\n",
       "    </tr>\n",
       "    <tr>\n",
       "      <th>max</th>\n",
       "      <td>891.000000</td>\n",
       "      <td>1.000000</td>\n",
       "      <td>3.000000</td>\n",
       "      <td>80.000000</td>\n",
       "      <td>8.000000</td>\n",
       "      <td>6.000000</td>\n",
       "      <td>512.329200</td>\n",
       "    </tr>\n",
       "  </tbody>\n",
       "</table>\n",
       "</div>"
      ],
      "text/plain": [
       "       PassengerId    Survived      Pclass         Age       SibSp  \\\n",
       "count   891.000000  891.000000  891.000000  714.000000  891.000000   \n",
       "mean    446.000000    0.383838    2.308642   29.699118    0.523008   \n",
       "std     257.353842    0.486592    0.836071   14.526497    1.102743   \n",
       "min       1.000000    0.000000    1.000000    0.420000    0.000000   \n",
       "25%     223.500000    0.000000    2.000000   20.125000    0.000000   \n",
       "50%     446.000000    0.000000    3.000000   28.000000    0.000000   \n",
       "75%     668.500000    1.000000    3.000000   38.000000    1.000000   \n",
       "max     891.000000    1.000000    3.000000   80.000000    8.000000   \n",
       "\n",
       "            Parch        Fare  \n",
       "count  891.000000  891.000000  \n",
       "mean     0.381594   32.204208  \n",
       "std      0.806057   49.693429  \n",
       "min      0.000000    0.000000  \n",
       "25%      0.000000    7.910400  \n",
       "50%      0.000000   14.454200  \n",
       "75%      0.000000   31.000000  \n",
       "max      6.000000  512.329200  "
      ]
     },
     "execution_count": 8,
     "metadata": {},
     "output_type": "execute_result"
    }
   ],
   "source": [
    "data.describe()"
   ]
  },
  {
   "cell_type": "markdown",
   "id": "31f43034-5090-475c-9c61-4c10c3164129",
   "metadata": {},
   "source": [
    "Numerical value analysis"
   ]
  },
  {
   "cell_type": "code",
   "execution_count": 9,
   "id": "ad07d293-ca6b-4842-99ca-aa0feb8dfa75",
   "metadata": {},
   "outputs": [
    {
     "data": {
      "image/png": "[encoded data removed]",
      "text/plain": [
       "<Figure size 800x700 with 2 Axes>"
      ]
     },
     "metadata": {},
     "output_type": "display_data"
    }
   ],
   "source": [
    "plt.figure(figsize=(8,7))\n",
    "heatmap=sns.heatmap(data[[\"Survived\", \"SibSp\", \"Parch\", \"Fare\", \"Age\"]].corr(), annot=True)"
   ]
  },
  {
   "cell_type": "markdown",
   "id": "dd758727-def5-452b-a4ef-2a1036db849e",
   "metadata": {},
   "source": [
    "##<font color=\"green\">Sibsp= Number of siblings/spouses aboard the titanic</font>"
   ]
  },
  {
   "cell_type": "code",
   "execution_count": 10,
   "id": "59d284b6-24ab-4b26-8df4-176b44a03b8e",
   "metadata": {},
   "outputs": [
    {
     "data": {
      "text/plain": [
       "7"
      ]
     },
     "execution_count": 10,
     "metadata": {},
     "output_type": "execute_result"
    }
   ],
   "source": [
    "data['SibSp'].nunique()"
   ]
  },
  {
   "cell_type": "code",
   "execution_count": 11,
   "id": "42360243-5096-434c-91ba-05c17b9040b4",
   "metadata": {},
   "outputs": [
    {
     "data": {
      "text/plain": [
       "array([1, 0, 3, 4, 2, 5, 8], dtype=int64)"
      ]
     },
     "execution_count": 11,
     "metadata": {},
     "output_type": "execute_result"
    }
   ],
   "source": [
    "data['SibSp'].unique()"
   ]
  },
  {
   "cell_type": "code",
   "execution_count": 13,
   "id": "d4420959-ce6b-444c-83d7-d751b42b82b9",
   "metadata": {},
   "outputs": [
    {
     "data": {
      "text/plain": [
       "<seaborn.axisgrid.FacetGrid at 0x19a97a06bd0>"
      ]
     },
     "execution_count": 13,
     "metadata": {},
     "output_type": "execute_result"
    },
    {
     "data": {
      "image/png": "[encoded data removed]",
      "text/plain": [
       "<Figure size 511.111x500 with 1 Axes>"
      ]
     },
     "metadata": {},
     "output_type": "display_data"
    }
   ],
   "source": [
    "sns.catplot(x=\"SibSp\",y=\"Survived\",data=data,kind=\"bar\" ).set_ylabels(\"survival probability\")"
   ]
  },
  {
   "cell_type": "markdown",
   "id": "abbc12f0-a859-402a-8d16-060a63cbd3b9",
   "metadata": {},
   "source": [
    "Age"
   ]
  },
  {
   "cell_type": "code",
   "execution_count": 28,
   "id": "94323b93-438e-4e57-9813-071eaa1e6c94",
   "metadata": {},
   "outputs": [
    {
     "data": {
      "image/png": "[encoded data removed]",
      "text/plain": [
       "<Figure size 1400x700 with 2 Axes>"
      ]
     },
     "metadata": {},
     "output_type": "display_data"
    }
   ],
   "source": [
    "age_visual = sns.FacetGrid(data, col='Survived', height=7)\n",
    "age_visual = age_visual.map(sns.histplot, 'Age').set_axis_labels(\"Age\", \"Survival Probability\")\n",
    "\n"
   ]
  },
  {
   "cell_type": "code",
   "execution_count": 32,
   "id": "1b1c6755-dac0-4f27-a7a4-fd4da4360d3c",
   "metadata": {},
   "outputs": [
    {
     "data": {
      "image/png": "[encoded data removed]",
      "text/plain": [
       "<Figure size 1200x1000 with 1 Axes>"
      ]
     },
     "metadata": {},
     "output_type": "display_data"
    }
   ],
   "source": [
    "age_plot=sns.barplot(x=\"Sex\", y=\"Survived\", data=data).set_ylabel(\"Survival Probability\")"
   ]
  },
  {
   "cell_type": "code",
   "execution_count": 34,
   "id": "51a53d02-eee5-45ae-b416-dd389a5e8d75",
   "metadata": {},
   "outputs": [
    {
     "data": {
      "text/html": [
       "<div>\n",
       "<style scoped>\n",
       "    .dataframe tbody tr th:only-of-type {\n",
       "        vertical-align: middle;\n",
       "    }\n",
       "\n",
       "    .dataframe tbody tr th {\n",
       "        vertical-align: top;\n",
       "    }\n",
       "\n",
       "    .dataframe thead th {\n",
       "        text-align: right;\n",
       "    }\n",
       "</style>\n",
       "<table border=\"1\" class=\"dataframe\">\n",
       "  <thead>\n",
       "    <tr style=\"text-align: right;\">\n",
       "      <th></th>\n",
       "      <th>Survived</th>\n",
       "    </tr>\n",
       "    <tr>\n",
       "      <th>Sex</th>\n",
       "      <th></th>\n",
       "    </tr>\n",
       "  </thead>\n",
       "  <tbody>\n",
       "    <tr>\n",
       "      <th>female</th>\n",
       "      <td>0.742038</td>\n",
       "    </tr>\n",
       "    <tr>\n",
       "      <th>male</th>\n",
       "      <td>0.188908</td>\n",
       "    </tr>\n",
       "  </tbody>\n",
       "</table>\n",
       "</div>"
      ],
      "text/plain": [
       "        Survived\n",
       "Sex             \n",
       "female  0.742038\n",
       "male    0.188908"
      ]
     },
     "execution_count": 34,
     "metadata": {},
     "output_type": "execute_result"
    }
   ],
   "source": [
    "data[['Sex','Survived']].groupby(\"Sex\").mean()"
   ]
  },
  {
   "cell_type": "markdown",
   "id": "33f9817c-3777-4eff-9d4e-a3e88670c2cd",
   "metadata": {},
   "source": [
    "pClass"
   ]
  },
  {
   "cell_type": "code",
   "execution_count": 38,
   "id": "d220a1f0-a819-45cf-be54-a8ac80390aa6",
   "metadata": {},
   "outputs": [
    {
     "data": {
      "image/png": "[encoded data removed]",
      "text/plain": [
       "<Figure size 600.875x500 with 1 Axes>"
      ]
     },
     "metadata": {},
     "output_type": "display_data"
    }
   ],
   "source": [
    "pclass=sns.catplot(x=\"Pclass\",y=\"Survived\",data=data,kind=\"bar\", hue=\"Sex\")\n",
    "pclass=pclass.set_ylabels(\"survival probability\")"
   ]
  },
  {
   "cell_type": "markdown",
   "id": "7148cfc0-6624-44dd-abce-a27cfaeecef0",
   "metadata": {},
   "source": [
    "Embarkment\n"
   ]
  },
  {
   "cell_type": "code",
   "execution_count": 39,
   "id": "38ad4786-ba59-4597-88fc-f4696c09f457",
   "metadata": {},
   "outputs": [
    {
     "data": {
      "text/plain": [
       "2"
      ]
     },
     "execution_count": 39,
     "metadata": {},
     "output_type": "execute_result"
    }
   ],
   "source": [
    "data['Embarked'].isnull().sum()"
   ]
  },
  {
   "cell_type": "code",
   "execution_count": 43,
   "id": "aa5fc626-9da5-4270-b626-7e1a43577f4c",
   "metadata": {},
   "outputs": [
    {
     "data": {
      "text/plain": [
       "Embarked\n",
       "S    644\n",
       "C    168\n",
       "Q     77\n",
       "Name: count, dtype: int64"
      ]
     },
     "execution_count": 43,
     "metadata": {},
     "output_type": "execute_result"
    }
   ],
   "source": [
    "data['Embarked'].value_counts()"
   ]
  },
  {
   "cell_type": "code",
   "execution_count": 44,
   "id": "3ff6989d-1245-4d60-98cb-7679fa9fb122",
   "metadata": {},
   "outputs": [],
   "source": [
    "data['Embarked']=data['Embarked'].fillna(\"S\")"
   ]
  },
  {
   "cell_type": "code",
   "execution_count": 47,
   "id": "873cf4db-3523-4f00-9ac1-9711b00c0423",
   "metadata": {},
   "outputs": [
    {
     "data": {
      "image/png": "[encoded data removed]",
      "text/plain": [
       "<Figure size 512.222x500 with 1 Axes>"
      ]
     },
     "metadata": {},
     "output_type": "display_data"
    }
   ],
   "source": [
    "g=sns.catplot(x= \"Embarked\", y= \"Survived\", data= data, kind=\"bar\")\n",
    "g=g.set_ylabels(\"Survival Probability\")"
   ]
  },
  {
   "cell_type": "code",
   "execution_count": 71,
   "id": "a15a6025-e98d-43b8-97f7-0b639689c789",
   "metadata": {},
   "outputs": [
    {
     "data": {
      "image/png": "[encoded data removed]",
      "text/plain": [
       "<Figure size 1512.22x500 with 3 Axes>"
      ]
     },
     "metadata": {},
     "output_type": "display_data"
    }
   ],
   "source": [
    "#explore pclass vs embarked\n",
    "g=sns.catplot(x=\"Pclass\",col=\"Embarked\" , data=data ,kind ='count')\n",
    "g=g.set_ylabels(\"count\")\n"
   ]
  },
  {
   "cell_type": "code",
   "execution_count": 73,
   "id": "871b3a65-0db2-4721-a2de-8321a07e76c2",
   "metadata": {},
   "outputs": [
    {
     "data": {
      "image/png": "[encoded data removed]",
      "text/plain": [
       "<Figure size 1512.22x500 with 3 Axes>"
      ]
     },
     "metadata": {},
     "output_type": "display_data"
    }
   ],
   "source": [
    "g=sns.catplot(x=\"Sex\",col=\"Embarked\", data= data, kind=\"count\")"
   ]
  },
  {
   "cell_type": "markdown",
   "id": "22eaf538-6646-496f-bf10-3e1eab691214",
   "metadata": {},
   "source": [
    "Preparing data"
   ]
  },
  {
   "cell_type": "code",
   "execution_count": 42,
   "id": "711fca04-9ed1-4947-95b8-430b81d2bbe3",
   "metadata": {},
   "outputs": [],
   "source": [
    "data = pd.read_csv('titanic_data.csv')"
   ]
  },
  {
   "cell_type": "code",
   "execution_count": 43,
   "id": "b2e304ec-f8e6-45a6-9875-4f22bc54f950",
   "metadata": {},
   "outputs": [
    {
     "data": {
      "text/html": [
       "<div>\n",
       "<style scoped>\n",
       "    .dataframe tbody tr th:only-of-type {\n",
       "        vertical-align: middle;\n",
       "    }\n",
       "\n",
       "    .dataframe tbody tr th {\n",
       "        vertical-align: top;\n",
       "    }\n",
       "\n",
       "    .dataframe thead th {\n",
       "        text-align: right;\n",
       "    }\n",
       "</style>\n",
       "<table border=\"1\" class=\"dataframe\">\n",
       "  <thead>\n",
       "    <tr style=\"text-align: right;\">\n",
       "      <th></th>\n",
       "      <th>PassengerId</th>\n",
       "      <th>Survived</th>\n",
       "      <th>Pclass</th>\n",
       "      <th>Name</th>\n",
       "      <th>Sex</th>\n",
       "      <th>Age</th>\n",
       "      <th>SibSp</th>\n",
       "      <th>Parch</th>\n",
       "      <th>Ticket</th>\n",
       "      <th>Fare</th>\n",
       "      <th>Cabin</th>\n",
       "      <th>Embarked</th>\n",
       "    </tr>\n",
       "  </thead>\n",
       "  <tbody>\n",
       "    <tr>\n",
       "      <th>0</th>\n",
       "      <td>1</td>\n",
       "      <td>0</td>\n",
       "      <td>3</td>\n",
       "      <td>Braund, Mr. Owen Harris</td>\n",
       "      <td>male</td>\n",
       "      <td>22.0</td>\n",
       "      <td>1</td>\n",
       "      <td>0</td>\n",
       "      <td>A/5 21171</td>\n",
       "      <td>7.2500</td>\n",
       "      <td>NaN</td>\n",
       "      <td>S</td>\n",
       "    </tr>\n",
       "    <tr>\n",
       "      <th>1</th>\n",
       "      <td>2</td>\n",
       "      <td>1</td>\n",
       "      <td>1</td>\n",
       "      <td>Cumings, Mrs. John Bradley (Florence Briggs Th...</td>\n",
       "      <td>female</td>\n",
       "      <td>38.0</td>\n",
       "      <td>1</td>\n",
       "      <td>0</td>\n",
       "      <td>PC 17599</td>\n",
       "      <td>71.2833</td>\n",
       "      <td>C85</td>\n",
       "      <td>C</td>\n",
       "    </tr>\n",
       "    <tr>\n",
       "      <th>2</th>\n",
       "      <td>3</td>\n",
       "      <td>1</td>\n",
       "      <td>3</td>\n",
       "      <td>Heikkinen, Miss. Laina</td>\n",
       "      <td>female</td>\n",
       "      <td>26.0</td>\n",
       "      <td>0</td>\n",
       "      <td>0</td>\n",
       "      <td>STON/O2. 3101282</td>\n",
       "      <td>7.9250</td>\n",
       "      <td>NaN</td>\n",
       "      <td>S</td>\n",
       "    </tr>\n",
       "    <tr>\n",
       "      <th>3</th>\n",
       "      <td>4</td>\n",
       "      <td>1</td>\n",
       "      <td>1</td>\n",
       "      <td>Futrelle, Mrs. Jacques Heath (Lily May Peel)</td>\n",
       "      <td>female</td>\n",
       "      <td>35.0</td>\n",
       "      <td>1</td>\n",
       "      <td>0</td>\n",
       "      <td>113803</td>\n",
       "      <td>53.1000</td>\n",
       "      <td>C123</td>\n",
       "      <td>S</td>\n",
       "    </tr>\n",
       "    <tr>\n",
       "      <th>4</th>\n",
       "      <td>5</td>\n",
       "      <td>0</td>\n",
       "      <td>3</td>\n",
       "      <td>Allen, Mr. William Henry</td>\n",
       "      <td>male</td>\n",
       "      <td>35.0</td>\n",
       "      <td>0</td>\n",
       "      <td>0</td>\n",
       "      <td>373450</td>\n",
       "      <td>8.0500</td>\n",
       "      <td>NaN</td>\n",
       "      <td>S</td>\n",
       "    </tr>\n",
       "  </tbody>\n",
       "</table>\n",
       "</div>"
      ],
      "text/plain": [
       "   PassengerId  Survived  Pclass  \\\n",
       "0            1         0       3   \n",
       "1            2         1       1   \n",
       "2            3         1       3   \n",
       "3            4         1       1   \n",
       "4            5         0       3   \n",
       "\n",
       "                                                Name     Sex   Age  SibSp  \\\n",
       "0                            Braund, Mr. Owen Harris    male  22.0      1   \n",
       "1  Cumings, Mrs. John Bradley (Florence Briggs Th...  female  38.0      1   \n",
       "2                             Heikkinen, Miss. Laina  female  26.0      0   \n",
       "3       Futrelle, Mrs. Jacques Heath (Lily May Peel)  female  35.0      1   \n",
       "4                           Allen, Mr. William Henry    male  35.0      0   \n",
       "\n",
       "   Parch            Ticket     Fare Cabin Embarked  \n",
       "0      0         A/5 21171   7.2500   NaN        S  \n",
       "1      0          PC 17599  71.2833   C85        C  \n",
       "2      0  STON/O2. 3101282   7.9250   NaN        S  \n",
       "3      0            113803  53.1000  C123        S  \n",
       "4      0            373450   8.0500   NaN        S  "
      ]
     },
     "execution_count": 43,
     "metadata": {},
     "output_type": "execute_result"
    }
   ],
   "source": [
    "data.head()"
   ]
  },
  {
   "cell_type": "code",
   "execution_count": 44,
   "id": "71ce1535-7ad8-4e0e-b6bc-a09bf376e689",
   "metadata": {},
   "outputs": [
    {
     "name": "stdout",
     "output_type": "stream",
     "text": [
      "<class 'pandas.core.frame.DataFrame'>\n",
      "RangeIndex: 891 entries, 0 to 890\n",
      "Data columns (total 12 columns):\n",
      " #   Column       Non-Null Count  Dtype  \n",
      "---  ------       --------------  -----  \n",
      " 0   PassengerId  891 non-null    int64  \n",
      " 1   Survived     891 non-null    int64  \n",
      " 2   Pclass       891 non-null    int64  \n",
      " 3   Name         891 non-null    object \n",
      " 4   Sex          891 non-null    object \n",
      " 5   Age          714 non-null    float64\n",
      " 6   SibSp        891 non-null    int64  \n",
      " 7   Parch        891 non-null    int64  \n",
      " 8   Ticket       891 non-null    object \n",
      " 9   Fare         891 non-null    float64\n",
      " 10  Cabin        204 non-null    object \n",
      " 11  Embarked     889 non-null    object \n",
      "dtypes: float64(2), int64(5), object(5)\n",
      "memory usage: 83.7+ KB\n"
     ]
    }
   ],
   "source": [
    "data.info()"
   ]
  },
  {
   "cell_type": "code",
   "execution_count": 45,
   "id": "c9a5be84-cba9-4a74-9bf6-7115caf34603",
   "metadata": {},
   "outputs": [],
   "source": [
    "mean = data[\"Age\"].mean()\n",
    "std = data[\"Age\"].std()\n",
    "is_null = data[\"Age\"].isnull().sum()\n",
    "    \n",
    "# compute random numbers between the mean, std and is_null\n",
    "rand_age = np.random.randint(mean - std, mean + std, size = is_null)\n",
    "    \n",
    "# fill NaN values in Age column with random values generated\n",
    "age_slice = data[\"Age\"].copy()\n",
    "age_slice[np.isnan(age_slice)] = rand_age\n",
    "data[\"Age\"] = age_slice"
   ]
  },
  {
   "cell_type": "code",
   "execution_count": 46,
   "id": "769396e1-7844-4e4e-bd4e-8139bda3d9b4",
   "metadata": {},
   "outputs": [
    {
     "data": {
      "text/plain": [
       "0"
      ]
     },
     "execution_count": 46,
     "metadata": {},
     "output_type": "execute_result"
    }
   ],
   "source": [
    "data[\"Age\"].isnull().sum()"
   ]
  },
  {
   "cell_type": "code",
   "execution_count": 47,
   "id": "efcc97c3-6ebd-412c-b4a8-ff4d7a3e8255",
   "metadata": {},
   "outputs": [
    {
     "name": "stdout",
     "output_type": "stream",
     "text": [
      "<class 'pandas.core.frame.DataFrame'>\n",
      "RangeIndex: 891 entries, 0 to 890\n",
      "Data columns (total 12 columns):\n",
      " #   Column       Non-Null Count  Dtype  \n",
      "---  ------       --------------  -----  \n",
      " 0   PassengerId  891 non-null    int64  \n",
      " 1   Survived     891 non-null    int64  \n",
      " 2   Pclass       891 non-null    int64  \n",
      " 3   Name         891 non-null    object \n",
      " 4   Sex          891 non-null    object \n",
      " 5   Age          891 non-null    float64\n",
      " 6   SibSp        891 non-null    int64  \n",
      " 7   Parch        891 non-null    int64  \n",
      " 8   Ticket       891 non-null    object \n",
      " 9   Fare         891 non-null    float64\n",
      " 10  Cabin        204 non-null    object \n",
      " 11  Embarked     889 non-null    object \n",
      "dtypes: float64(2), int64(5), object(5)\n",
      "memory usage: 83.7+ KB\n"
     ]
    }
   ],
   "source": [
    "data.info()"
   ]
  },
  {
   "cell_type": "code",
   "execution_count": 48,
   "id": "80d459a7-afe8-472c-826b-8bb043a77b85",
   "metadata": {},
   "outputs": [
    {
     "data": {
      "text/plain": [
       "2"
      ]
     },
     "execution_count": 48,
     "metadata": {},
     "output_type": "execute_result"
    }
   ],
   "source": [
    "data[\"Embarked\"].isnull().sum()"
   ]
  },
  {
   "cell_type": "code",
   "execution_count": 49,
   "id": "1aac009a-4a65-4d50-b067-8fc8bd6cc735",
   "metadata": {},
   "outputs": [],
   "source": [
    "data[\"Embarked\"] = data[\"Embarked\"].fillna(\"S\")"
   ]
  },
  {
   "cell_type": "code",
   "execution_count": 50,
   "id": "71083bd0-db57-499f-86bd-6e899351b74d",
   "metadata": {},
   "outputs": [],
   "source": [
    "col_to_drop = ['PassengerId','Cabin', 'Ticket','Name']\n",
    "data.drop(col_to_drop, axis=1, inplace = True)"
   ]
  },
  {
   "cell_type": "code",
   "execution_count": 51,
   "id": "275e058b-afdb-4161-9b59-9a9d27542e36",
   "metadata": {},
   "outputs": [
    {
     "data": {
      "text/html": [
       "<div>\n",
       "<style scoped>\n",
       "    .dataframe tbody tr th:only-of-type {\n",
       "        vertical-align: middle;\n",
       "    }\n",
       "\n",
       "    .dataframe tbody tr th {\n",
       "        vertical-align: top;\n",
       "    }\n",
       "\n",
       "    .dataframe thead th {\n",
       "        text-align: right;\n",
       "    }\n",
       "</style>\n",
       "<table border=\"1\" class=\"dataframe\">\n",
       "  <thead>\n",
       "    <tr style=\"text-align: right;\">\n",
       "      <th></th>\n",
       "      <th>Survived</th>\n",
       "      <th>Pclass</th>\n",
       "      <th>Sex</th>\n",
       "      <th>Age</th>\n",
       "      <th>SibSp</th>\n",
       "      <th>Parch</th>\n",
       "      <th>Fare</th>\n",
       "      <th>Embarked</th>\n",
       "    </tr>\n",
       "  </thead>\n",
       "  <tbody>\n",
       "    <tr>\n",
       "      <th>0</th>\n",
       "      <td>0</td>\n",
       "      <td>3</td>\n",
       "      <td>male</td>\n",
       "      <td>22.0</td>\n",
       "      <td>1</td>\n",
       "      <td>0</td>\n",
       "      <td>7.2500</td>\n",
       "      <td>S</td>\n",
       "    </tr>\n",
       "    <tr>\n",
       "      <th>1</th>\n",
       "      <td>1</td>\n",
       "      <td>1</td>\n",
       "      <td>female</td>\n",
       "      <td>38.0</td>\n",
       "      <td>1</td>\n",
       "      <td>0</td>\n",
       "      <td>71.2833</td>\n",
       "      <td>C</td>\n",
       "    </tr>\n",
       "    <tr>\n",
       "      <th>2</th>\n",
       "      <td>1</td>\n",
       "      <td>3</td>\n",
       "      <td>female</td>\n",
       "      <td>26.0</td>\n",
       "      <td>0</td>\n",
       "      <td>0</td>\n",
       "      <td>7.9250</td>\n",
       "      <td>S</td>\n",
       "    </tr>\n",
       "    <tr>\n",
       "      <th>3</th>\n",
       "      <td>1</td>\n",
       "      <td>1</td>\n",
       "      <td>female</td>\n",
       "      <td>35.0</td>\n",
       "      <td>1</td>\n",
       "      <td>0</td>\n",
       "      <td>53.1000</td>\n",
       "      <td>S</td>\n",
       "    </tr>\n",
       "    <tr>\n",
       "      <th>4</th>\n",
       "      <td>0</td>\n",
       "      <td>3</td>\n",
       "      <td>male</td>\n",
       "      <td>35.0</td>\n",
       "      <td>0</td>\n",
       "      <td>0</td>\n",
       "      <td>8.0500</td>\n",
       "      <td>S</td>\n",
       "    </tr>\n",
       "  </tbody>\n",
       "</table>\n",
       "</div>"
      ],
      "text/plain": [
       "   Survived  Pclass     Sex   Age  SibSp  Parch     Fare Embarked\n",
       "0         0       3    male  22.0      1      0   7.2500        S\n",
       "1         1       1  female  38.0      1      0  71.2833        C\n",
       "2         1       3  female  26.0      0      0   7.9250        S\n",
       "3         1       1  female  35.0      1      0  53.1000        S\n",
       "4         0       3    male  35.0      0      0   8.0500        S"
      ]
     },
     "execution_count": 51,
     "metadata": {},
     "output_type": "execute_result"
    }
   ],
   "source": [
    "data.head()"
   ]
  },
  {
   "cell_type": "code",
   "execution_count": 52,
   "id": "d4427f1f-e9f2-4aa2-a1ba-beb9a707904d",
   "metadata": {},
   "outputs": [],
   "source": [
    "genders = {\"male\": 0, \"female\": 1}\n",
    "data['Sex'] = data['Sex'].map(genders)"
   ]
  },
  {
   "cell_type": "code",
   "execution_count": 53,
   "id": "a000b2d6-d0aa-48a6-9db4-8c478220a1e1",
   "metadata": {},
   "outputs": [
    {
     "data": {
      "text/html": [
       "<div>\n",
       "<style scoped>\n",
       "    .dataframe tbody tr th:only-of-type {\n",
       "        vertical-align: middle;\n",
       "    }\n",
       "\n",
       "    .dataframe tbody tr th {\n",
       "        vertical-align: top;\n",
       "    }\n",
       "\n",
       "    .dataframe thead th {\n",
       "        text-align: right;\n",
       "    }\n",
       "</style>\n",
       "<table border=\"1\" class=\"dataframe\">\n",
       "  <thead>\n",
       "    <tr style=\"text-align: right;\">\n",
       "      <th></th>\n",
       "      <th>Survived</th>\n",
       "      <th>Pclass</th>\n",
       "      <th>Sex</th>\n",
       "      <th>Age</th>\n",
       "      <th>SibSp</th>\n",
       "      <th>Parch</th>\n",
       "      <th>Fare</th>\n",
       "      <th>Embarked</th>\n",
       "    </tr>\n",
       "  </thead>\n",
       "  <tbody>\n",
       "    <tr>\n",
       "      <th>0</th>\n",
       "      <td>0</td>\n",
       "      <td>3</td>\n",
       "      <td>0</td>\n",
       "      <td>22.0</td>\n",
       "      <td>1</td>\n",
       "      <td>0</td>\n",
       "      <td>7.2500</td>\n",
       "      <td>S</td>\n",
       "    </tr>\n",
       "    <tr>\n",
       "      <th>1</th>\n",
       "      <td>1</td>\n",
       "      <td>1</td>\n",
       "      <td>1</td>\n",
       "      <td>38.0</td>\n",
       "      <td>1</td>\n",
       "      <td>0</td>\n",
       "      <td>71.2833</td>\n",
       "      <td>C</td>\n",
       "    </tr>\n",
       "    <tr>\n",
       "      <th>2</th>\n",
       "      <td>1</td>\n",
       "      <td>3</td>\n",
       "      <td>1</td>\n",
       "      <td>26.0</td>\n",
       "      <td>0</td>\n",
       "      <td>0</td>\n",
       "      <td>7.9250</td>\n",
       "      <td>S</td>\n",
       "    </tr>\n",
       "    <tr>\n",
       "      <th>3</th>\n",
       "      <td>1</td>\n",
       "      <td>1</td>\n",
       "      <td>1</td>\n",
       "      <td>35.0</td>\n",
       "      <td>1</td>\n",
       "      <td>0</td>\n",
       "      <td>53.1000</td>\n",
       "      <td>S</td>\n",
       "    </tr>\n",
       "    <tr>\n",
       "      <th>4</th>\n",
       "      <td>0</td>\n",
       "      <td>3</td>\n",
       "      <td>0</td>\n",
       "      <td>35.0</td>\n",
       "      <td>0</td>\n",
       "      <td>0</td>\n",
       "      <td>8.0500</td>\n",
       "      <td>S</td>\n",
       "    </tr>\n",
       "  </tbody>\n",
       "</table>\n",
       "</div>"
      ],
      "text/plain": [
       "   Survived  Pclass  Sex   Age  SibSp  Parch     Fare Embarked\n",
       "0         0       3    0  22.0      1      0   7.2500        S\n",
       "1         1       1    1  38.0      1      0  71.2833        C\n",
       "2         1       3    1  26.0      0      0   7.9250        S\n",
       "3         1       1    1  35.0      1      0  53.1000        S\n",
       "4         0       3    0  35.0      0      0   8.0500        S"
      ]
     },
     "execution_count": 53,
     "metadata": {},
     "output_type": "execute_result"
    }
   ],
   "source": [
    "data.head()"
   ]
  },
  {
   "cell_type": "code",
   "execution_count": 54,
   "id": "5761de70-a461-444d-ab88-295bcb03f846",
   "metadata": {},
   "outputs": [],
   "source": [
    "ports = {\"S\": 0, \"C\": 1, \"Q\": 2}\n",
    "\n",
    "data['Embarked'] = data['Embarked'].map(ports)\n"
   ]
  },
  {
   "cell_type": "code",
   "execution_count": 55,
   "id": "32ffa7a7-d6ea-4ab6-9be4-0bcdbd1fd6f8",
   "metadata": {},
   "outputs": [
    {
     "data": {
      "text/html": [
       "<div>\n",
       "<style scoped>\n",
       "    .dataframe tbody tr th:only-of-type {\n",
       "        vertical-align: middle;\n",
       "    }\n",
       "\n",
       "    .dataframe tbody tr th {\n",
       "        vertical-align: top;\n",
       "    }\n",
       "\n",
       "    .dataframe thead th {\n",
       "        text-align: right;\n",
       "    }\n",
       "</style>\n",
       "<table border=\"1\" class=\"dataframe\">\n",
       "  <thead>\n",
       "    <tr style=\"text-align: right;\">\n",
       "      <th></th>\n",
       "      <th>Survived</th>\n",
       "      <th>Pclass</th>\n",
       "      <th>Sex</th>\n",
       "      <th>Age</th>\n",
       "      <th>SibSp</th>\n",
       "      <th>Parch</th>\n",
       "      <th>Fare</th>\n",
       "      <th>Embarked</th>\n",
       "    </tr>\n",
       "  </thead>\n",
       "  <tbody>\n",
       "    <tr>\n",
       "      <th>0</th>\n",
       "      <td>0</td>\n",
       "      <td>3</td>\n",
       "      <td>0</td>\n",
       "      <td>22.0</td>\n",
       "      <td>1</td>\n",
       "      <td>0</td>\n",
       "      <td>7.2500</td>\n",
       "      <td>0</td>\n",
       "    </tr>\n",
       "    <tr>\n",
       "      <th>1</th>\n",
       "      <td>1</td>\n",
       "      <td>1</td>\n",
       "      <td>1</td>\n",
       "      <td>38.0</td>\n",
       "      <td>1</td>\n",
       "      <td>0</td>\n",
       "      <td>71.2833</td>\n",
       "      <td>1</td>\n",
       "    </tr>\n",
       "    <tr>\n",
       "      <th>2</th>\n",
       "      <td>1</td>\n",
       "      <td>3</td>\n",
       "      <td>1</td>\n",
       "      <td>26.0</td>\n",
       "      <td>0</td>\n",
       "      <td>0</td>\n",
       "      <td>7.9250</td>\n",
       "      <td>0</td>\n",
       "    </tr>\n",
       "    <tr>\n",
       "      <th>3</th>\n",
       "      <td>1</td>\n",
       "      <td>1</td>\n",
       "      <td>1</td>\n",
       "      <td>35.0</td>\n",
       "      <td>1</td>\n",
       "      <td>0</td>\n",
       "      <td>53.1000</td>\n",
       "      <td>0</td>\n",
       "    </tr>\n",
       "    <tr>\n",
       "      <th>4</th>\n",
       "      <td>0</td>\n",
       "      <td>3</td>\n",
       "      <td>0</td>\n",
       "      <td>35.0</td>\n",
       "      <td>0</td>\n",
       "      <td>0</td>\n",
       "      <td>8.0500</td>\n",
       "      <td>0</td>\n",
       "    </tr>\n",
       "  </tbody>\n",
       "</table>\n",
       "</div>"
      ],
      "text/plain": [
       "   Survived  Pclass  Sex   Age  SibSp  Parch     Fare  Embarked\n",
       "0         0       3    0  22.0      1      0   7.2500         0\n",
       "1         1       1    1  38.0      1      0  71.2833         1\n",
       "2         1       3    1  26.0      0      0   7.9250         0\n",
       "3         1       1    1  35.0      1      0  53.1000         0\n",
       "4         0       3    0  35.0      0      0   8.0500         0"
      ]
     },
     "execution_count": 55,
     "metadata": {},
     "output_type": "execute_result"
    }
   ],
   "source": [
    "data.head()"
   ]
  },
  {
   "cell_type": "code",
   "execution_count": 56,
   "id": "031ef0db-20f6-42b5-86f1-32c143d7eac4",
   "metadata": {},
   "outputs": [
    {
     "name": "stdout",
     "output_type": "stream",
     "text": [
      "<class 'pandas.core.frame.DataFrame'>\n",
      "RangeIndex: 891 entries, 0 to 890\n",
      "Data columns (total 8 columns):\n",
      " #   Column    Non-Null Count  Dtype  \n",
      "---  ------    --------------  -----  \n",
      " 0   Survived  891 non-null    int64  \n",
      " 1   Pclass    891 non-null    int64  \n",
      " 2   Sex       891 non-null    int64  \n",
      " 3   Age       891 non-null    float64\n",
      " 4   SibSp     891 non-null    int64  \n",
      " 5   Parch     891 non-null    int64  \n",
      " 6   Fare      891 non-null    float64\n",
      " 7   Embarked  891 non-null    int64  \n",
      "dtypes: float64(2), int64(6)\n",
      "memory usage: 55.8 KB\n"
     ]
    }
   ],
   "source": [
    "data.info()"
   ]
  },
  {
   "cell_type": "markdown",
   "id": "34fee9fb-51d2-4c01-88d0-efe9e6755061",
   "metadata": {},
   "source": [
    "SPLITTING DATA"
   ]
  },
  {
   "cell_type": "code",
   "execution_count": 59,
   "id": "c6fd8a18-e0cd-4389-904c-94fd2407ada5",
   "metadata": {},
   "outputs": [],
   "source": [
    "x = data.drop(data.columns[[0]], axis = 1)\n",
    "y = data['Survived']\n"
   ]
  },
  {
   "cell_type": "code",
   "execution_count": 61,
   "id": "e6dc3023-744d-43de-95c5-5bc73b8934fc",
   "metadata": {},
   "outputs": [
    {
     "data": {
      "text/html": [
       "<div>\n",
       "<style scoped>\n",
       "    .dataframe tbody tr th:only-of-type {\n",
       "        vertical-align: middle;\n",
       "    }\n",
       "\n",
       "    .dataframe tbody tr th {\n",
       "        vertical-align: top;\n",
       "    }\n",
       "\n",
       "    .dataframe thead th {\n",
       "        text-align: right;\n",
       "    }\n",
       "</style>\n",
       "<table border=\"1\" class=\"dataframe\">\n",
       "  <thead>\n",
       "    <tr style=\"text-align: right;\">\n",
       "      <th></th>\n",
       "      <th>Pclass</th>\n",
       "      <th>Sex</th>\n",
       "      <th>Age</th>\n",
       "      <th>SibSp</th>\n",
       "      <th>Parch</th>\n",
       "      <th>Fare</th>\n",
       "      <th>Embarked</th>\n",
       "    </tr>\n",
       "  </thead>\n",
       "  <tbody>\n",
       "    <tr>\n",
       "      <th>0</th>\n",
       "      <td>3</td>\n",
       "      <td>0</td>\n",
       "      <td>22.0</td>\n",
       "      <td>1</td>\n",
       "      <td>0</td>\n",
       "      <td>7.2500</td>\n",
       "      <td>0</td>\n",
       "    </tr>\n",
       "    <tr>\n",
       "      <th>1</th>\n",
       "      <td>1</td>\n",
       "      <td>1</td>\n",
       "      <td>38.0</td>\n",
       "      <td>1</td>\n",
       "      <td>0</td>\n",
       "      <td>71.2833</td>\n",
       "      <td>1</td>\n",
       "    </tr>\n",
       "    <tr>\n",
       "      <th>2</th>\n",
       "      <td>3</td>\n",
       "      <td>1</td>\n",
       "      <td>26.0</td>\n",
       "      <td>0</td>\n",
       "      <td>0</td>\n",
       "      <td>7.9250</td>\n",
       "      <td>0</td>\n",
       "    </tr>\n",
       "    <tr>\n",
       "      <th>3</th>\n",
       "      <td>1</td>\n",
       "      <td>1</td>\n",
       "      <td>35.0</td>\n",
       "      <td>1</td>\n",
       "      <td>0</td>\n",
       "      <td>53.1000</td>\n",
       "      <td>0</td>\n",
       "    </tr>\n",
       "    <tr>\n",
       "      <th>4</th>\n",
       "      <td>3</td>\n",
       "      <td>0</td>\n",
       "      <td>35.0</td>\n",
       "      <td>0</td>\n",
       "      <td>0</td>\n",
       "      <td>8.0500</td>\n",
       "      <td>0</td>\n",
       "    </tr>\n",
       "  </tbody>\n",
       "</table>\n",
       "</div>"
      ],
      "text/plain": [
       "   Pclass  Sex   Age  SibSp  Parch     Fare  Embarked\n",
       "0       3    0  22.0      1      0   7.2500         0\n",
       "1       1    1  38.0      1      0  71.2833         1\n",
       "2       3    1  26.0      0      0   7.9250         0\n",
       "3       1    1  35.0      1      0  53.1000         0\n",
       "4       3    0  35.0      0      0   8.0500         0"
      ]
     },
     "execution_count": 61,
     "metadata": {},
     "output_type": "execute_result"
    }
   ],
   "source": [
    "x.head()"
   ]
  },
  {
   "cell_type": "code",
   "execution_count": 62,
   "id": "f5de325d-f023-4c0d-a24c-b63a1e4a06ba",
   "metadata": {},
   "outputs": [
    {
     "data": {
      "text/plain": [
       "0    0\n",
       "1    1\n",
       "2    1\n",
       "3    1\n",
       "4    0\n",
       "Name: Survived, dtype: int64"
      ]
     },
     "execution_count": 62,
     "metadata": {},
     "output_type": "execute_result"
    }
   ],
   "source": [
    "y.head()"
   ]
  },
  {
   "cell_type": "code",
   "execution_count": 63,
   "id": "da5ab511-18f1-417e-b089-14c1633205ed",
   "metadata": {},
   "outputs": [],
   "source": [
    "from sklearn.model_selection import train_test_split\n",
    "xtrain, xtest, ytrain, ytest=train_test_split(x,y,test_size=0.30, random_state=0)"
   ]
  },
  {
   "cell_type": "markdown",
   "id": "98cb895f-e328-40b8-902b-7a84c00940c1",
   "metadata": {},
   "source": [
    "FEATURES SCALING"
   ]
  },
  {
   "cell_type": "code",
   "execution_count": 67,
   "id": "d7dae89c-b65b-498a-923d-a8932eef9d7f",
   "metadata": {},
   "outputs": [
    {
     "name": "stderr",
     "output_type": "stream",
     "text": [
      "C:\\Users\\Deeksha\\AppData\\Local\\Programs\\Python\\Python312\\Lib\\site-packages\\sklearn\\base.py:458: UserWarning: X has feature names, but StandardScaler was fitted without feature names\n",
      "  warnings.warn(\n"
     ]
    }
   ],
   "source": [
    "from sklearn.preprocessing import StandardScaler\n",
    "sc_x = StandardScaler()\n",
    "xtrain = sc_x.fit_transform(xtrain) \n",
    "xtest = sc_x.transform(xtest)\n"
   ]
  },
  {
   "cell_type": "markdown",
   "id": "4b7db872-ea45-479c-b3c8-77a1aabb109e",
   "metadata": {},
   "source": [
    "Classification"
   ]
  },
  {
   "cell_type": "code",
   "execution_count": 69,
   "id": "d4168c92-ced6-4a9e-b2d0-822557eedc5e",
   "metadata": {},
   "outputs": [],
   "source": [
    "logreg = LogisticRegression()\n",
    "svc_classifier = SVC()\n",
    "dt_classifier = DecisionTreeClassifier()\n",
    "knn_classifier = KNeighborsClassifier(5)\n",
    "rf_classifier = RandomForestClassifier(n_estimators=1000, criterion = 'entropy', random_state = 0 )"
   ]
  },
  {
   "cell_type": "code",
   "execution_count": 70,
   "id": "48834760-5f9c-46bb-ad95-2afa177b2c12",
   "metadata": {},
   "outputs": [
    {
     "data": {
      "text/html": [
       "<style>#sk-container-id-1 {color: black;}#sk-container-id-1 pre{padding: 0;}#sk-container-id-1 div.sk-toggleable {background-color: white;}#sk-container-id-1 label.sk-toggleable__label {cursor: pointer;display: block;width: 100%;margin-bottom: 0;padding: 0.3em;box-sizing: border-box;text-align: center;}#sk-container-id-1 label.sk-toggleable__label-arrow:before {content: \"▸\";float: left;margin-right: 0.25em;color: #696969;}#sk-container-id-1 label.sk-toggleable__label-arrow:hover:before {color: black;}#sk-container-id-1 div.sk-estimator:hover label.sk-toggleable__label-arrow:before {color: black;}#sk-container-id-1 div.sk-toggleable__content {max-height: 0;max-width: 0;overflow: hidden;text-align: left;background-color: #f0f8ff;}#sk-container-id-1 div.sk-toggleable__content pre {margin: 0.2em;color: black;border-radius: 0.25em;background-color: #f0f8ff;}#sk-container-id-1 input.sk-toggleable__control:checked~div.sk-toggleable__content {max-height: 200px;max-width: 100%;overflow: auto;}#sk-container-id-1 input.sk-toggleable__control:checked~label.sk-toggleable__label-arrow:before {content: \"▾\";}#sk-container-id-1 div.sk-estimator input.sk-toggleable__control:checked~label.sk-toggleable__label {background-color: #d4ebff;}#sk-container-id-1 div.sk-label input.sk-toggleable__control:checked~label.sk-toggleable__label {background-color: #d4ebff;}#sk-container-id-1 input.sk-hidden--visually {border: 0;clip: rect(1px 1px 1px 1px);clip: rect(1px, 1px, 1px, 1px);height: 1px;margin: -1px;overflow: hidden;padding: 0;position: absolute;width: 1px;}#sk-container-id-1 div.sk-estimator {font-family: monospace;background-color: #f0f8ff;border: 1px dotted black;border-radius: 0.25em;box-sizing: border-box;margin-bottom: 0.5em;}#sk-container-id-1 div.sk-estimator:hover {background-color: #d4ebff;}#sk-container-id-1 div.sk-parallel-item::after {content: \"\";width: 100%;border-bottom: 1px solid gray;flex-grow: 1;}#sk-container-id-1 div.sk-label:hover label.sk-toggleable__label {background-color: #d4ebff;}#sk-container-id-1 div.sk-serial::before {content: \"\";position: absolute;border-left: 1px solid gray;box-sizing: border-box;top: 0;bottom: 0;left: 50%;z-index: 0;}#sk-container-id-1 div.sk-serial {display: flex;flex-direction: column;align-items: center;background-color: white;padding-right: 0.2em;padding-left: 0.2em;position: relative;}#sk-container-id-1 div.sk-item {position: relative;z-index: 1;}#sk-container-id-1 div.sk-parallel {display: flex;align-items: stretch;justify-content: center;background-color: white;position: relative;}#sk-container-id-1 div.sk-item::before, #sk-container-id-1 div.sk-parallel-item::before {content: \"\";position: absolute;border-left: 1px solid gray;box-sizing: border-box;top: 0;bottom: 0;left: 50%;z-index: -1;}#sk-container-id-1 div.sk-parallel-item {display: flex;flex-direction: column;z-index: 1;position: relative;background-color: white;}#sk-container-id-1 div.sk-parallel-item:first-child::after {align-self: flex-end;width: 50%;}#sk-container-id-1 div.sk-parallel-item:last-child::after {align-self: flex-start;width: 50%;}#sk-container-id-1 div.sk-parallel-item:only-child::after {width: 0;}#sk-container-id-1 div.sk-dashed-wrapped {border: 1px dashed gray;margin: 0 0.4em 0.5em 0.4em;box-sizing: border-box;padding-bottom: 0.4em;background-color: white;}#sk-container-id-1 div.sk-label label {font-family: monospace;font-weight: bold;display: inline-block;line-height: 1.2em;}#sk-container-id-1 div.sk-label-container {text-align: center;}#sk-container-id-1 div.sk-container {/* jupyter's `normalize.less` sets `[hidden] { display: none; }` but bootstrap.min.css set `[hidden] { display: none !important; }` so we also need the `!important` here to be able to override the default hidden behavior on the sphinx rendered scikit-learn.org. See: https://github.com/scikit-learn/scikit-learn/issues/21755 */display: inline-block !important;position: relative;}#sk-container-id-1 div.sk-text-repr-fallback {display: none;}</style><div id=\"sk-container-id-1\" class=\"sk-top-container\"><div class=\"sk-text-repr-fallback\"><pre>RandomForestClassifier(criterion=&#x27;entropy&#x27;, n_estimators=1000, random_state=0)</pre><b>In a Jupyter environment, please rerun this cell to show the HTML representation or trust the notebook. <br />On GitHub, the HTML representation is unable to render, please try loading this page with nbviewer.org.</b></div><div class=\"sk-container\" hidden><div class=\"sk-item\"><div class=\"sk-estimator sk-toggleable\"><input class=\"sk-toggleable__control sk-hidden--visually\" id=\"sk-estimator-id-1\" type=\"checkbox\" checked><label for=\"sk-estimator-id-1\" class=\"sk-toggleable__label sk-toggleable__label-arrow\">RandomForestClassifier</label><div class=\"sk-toggleable__content\"><pre>RandomForestClassifier(criterion=&#x27;entropy&#x27;, n_estimators=1000, random_state=0)</pre></div></div></div></div></div>"
      ],
      "text/plain": [
       "RandomForestClassifier(criterion='entropy', n_estimators=1000, random_state=0)"
      ]
     },
     "execution_count": 70,
     "metadata": {},
     "output_type": "execute_result"
    }
   ],
   "source": [
    "logreg.fit(xtrain, ytrain)\n",
    "svc_classifier.fit(xtrain, ytrain)\n",
    "dt_classifier.fit(xtrain, ytrain)\n",
    "knn_classifier.fit(xtrain, ytrain)\n",
    "rf_classifier.fit(xtrain, ytrain)\n"
   ]
  },
  {
   "cell_type": "code",
   "execution_count": 71,
   "id": "ddc45b7c-76be-4f1b-9a0b-e9a78f4c7592",
   "metadata": {},
   "outputs": [],
   "source": [
    "logreg_ypred = logreg.predict(xtest)\n",
    "svc_classifier_ypred = svc_classifier.predict(xtest)\n",
    "dt_classifier_ypred = dt_classifier.predict(xtest)\n",
    "knn_classifier_ypred = knn_classifier.predict(xtest)\n",
    "rf_classifier_ypred = rf_classifier.predict(xtest)\n"
   ]
  },
  {
   "cell_type": "code",
   "execution_count": 72,
   "id": "90aa05b1-b6ad-4c6f-a41f-693fe75fa75f",
   "metadata": {},
   "outputs": [],
   "source": [
    "from sklearn.metrics import accuracy_score\n",
    "\n",
    "logreg_acc = accuracy_score(ytest, logreg_ypred)\n",
    "svc_classifier_acc = accuracy_score(ytest, svc_classifier_ypred)\n",
    "dt_classifier_acc = accuracy_score(ytest, dt_classifier_ypred)\n",
    "knn_classifier_acc = accuracy_score(ytest, knn_classifier_ypred)\n",
    "rf_classifier_acc = accuracy_score(ytest, rf_classifier_ypred)\n"
   ]
  },
  {
   "cell_type": "code",
   "execution_count": 73,
   "id": "93416505-fc85-4129-9f80-56fa6196fab0",
   "metadata": {},
   "outputs": [
    {
     "name": "stdout",
     "output_type": "stream",
     "text": [
      "Logistic Regression :  64.18\n",
      "Support Vector      :  62.69\n",
      "Decision Tree       :  73.13\n",
      "K-NN Classifier     :  67.16\n",
      "Random Forest       :  70.15\n"
     ]
    }
   ],
   "source": [
    "print (\"Logistic Regression : \", round(logreg_acc*100, 2))\n",
    "print (\"Support Vector      : \", round(svc_classifier_acc*100, 2))\n",
    "print (\"Decision Tree       : \", round(dt_classifier_acc*100, 2))\n",
    "print (\"K-NN Classifier     : \", round(knn_classifier_acc*100, 2))\n",
    "print (\"Random Forest       : \", round(rf_classifier_acc*100, 2))"
   ]
  },
  {
   "cell_type": "code",
   "execution_count": null,
   "id": "8a627dab-0e31-4d16-9ff3-2df173e59b63",
   "metadata": {},
   "outputs": [],
   "source": []
  }
 ],
 "metadata": {
  "kernelspec": {
   "display_name": "Python 3 (ipykernel)",
   "language": "python",
   "name": "python3"
  },
  "language_info": {
   "codemirror_mode": {
    "name": "ipython",
    "version": 3
   },
   "file_extension": ".py",
   "mimetype": "text/x-python",
   "name": "python",
   "nbconvert_exporter": "python",
   "pygments_lexer": "ipython3",
   "version": "3.11.5"
  }
 },
 "nbformat": 4,
 "nbformat_minor": 5
}
